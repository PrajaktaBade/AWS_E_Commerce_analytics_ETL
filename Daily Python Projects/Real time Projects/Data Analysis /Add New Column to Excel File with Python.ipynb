{
 "cells": [
  {
   "cell_type": "code",
   "execution_count": 3,
   "id": "84d5c3ec-1fbe-4633-b553-33eb345c93d6",
   "metadata": {},
   "outputs": [
    {
     "name": "stdout",
     "output_type": "stream",
     "text": [
      "   Order Date    Product     Category  Price  Quantity\n",
      "0  2023-01-01  Product A  Electronics    500         2\n",
      "1  2023-01-03  Product B     Clothing     40         3\n",
      "2  2023-01-05  Product C  Electronics   1200         1\n",
      "3  2023-02-10  Product A  Electronics    500         1\n",
      "4  2023-02-15  Product B     Clothing     40         2\n",
      "<class 'pandas.core.frame.DataFrame'>\n",
      "RangeIndex: 9 entries, 0 to 8\n",
      "Data columns (total 5 columns):\n",
      " #   Column      Non-Null Count  Dtype \n",
      "---  ------      --------------  ----- \n",
      " 0   Order Date  9 non-null      object\n",
      " 1   Product     9 non-null      object\n",
      " 2   Category    9 non-null      object\n",
      " 3   Price       9 non-null      int64 \n",
      " 4   Quantity    9 non-null      int64 \n",
      "dtypes: int64(2), object(3)\n",
      "memory usage: 492.0+ bytes\n",
      "None\n",
      "             Price  Quantity\n",
      "count     9.000000  9.000000\n",
      "mean    580.000000  1.888889\n",
      "std     505.865595  0.781736\n",
      "min      40.000000  1.000000\n",
      "25%      40.000000  1.000000\n",
      "50%     500.000000  2.000000\n",
      "75%    1200.000000  2.000000\n",
      "max    1200.000000  3.000000\n",
      "New Excel file saved successfully.\n"
     ]
    }
   ],
   "source": [
    "import pandas as pd\n",
    "\n",
    "# Step 2: Load Data\n",
    "sales_data = pd.read_excel('input.xlsx')\n",
    "\n",
    "# Step 3: Explore Data\n",
    "print(sales_data.head())\n",
    "print(sales_data.info())\n",
    "print(sales_data.describe())\n",
    "\n",
    "# Step 4: Data Cleaning (Example: Handling missing values)\n",
    "sales_data.dropna(inplace=True)\n",
    "\n",
    "# Step 5: Add Profit column\n",
    "sales_data['Total'] = sales_data['Price'] * sales_data['Quantity']\n",
    "\n",
    "# Step 6: Save updated DataFrame to a new Excel file\n",
    "sales_data.to_excel('output.xlsx', index=False)\n",
    "\n",
    "print(\"New Excel file saved successfully.\")"
   ]
  },
  {
   "cell_type": "code",
   "execution_count": null,
   "id": "3624e58d-0063-401c-977a-1a32aeb5356c",
   "metadata": {},
   "outputs": [],
   "source": []
  }
 ],
 "metadata": {
  "kernelspec": {
   "display_name": "Python 3 (ipykernel)",
   "language": "python",
   "name": "python3"
  },
  "language_info": {
   "codemirror_mode": {
    "name": "ipython",
    "version": 3
   },
   "file_extension": ".py",
   "mimetype": "text/x-python",
   "name": "python",
   "nbconvert_exporter": "python",
   "pygments_lexer": "ipython3",
   "version": "3.12.4"
  }
 },
 "nbformat": 4,
 "nbformat_minor": 5
}
